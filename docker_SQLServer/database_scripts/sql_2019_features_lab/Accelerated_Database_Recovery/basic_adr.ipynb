{
    "metadata": {
        "kernelspec": {
            "name": "SQL",
            "display_name": "SQL",
            "language": "sql"
        },
        "language_info": {
            "name": "sql",
            "version": ""
        },
        "orig_nbformat": 2
    },
    "nbformat_minor": 2,
    "nbformat": 4,
    "cells": [
        {
            "cell_type": "markdown",
            "source": [
                "This needs to run in SQL Azure Studio(SAS), not VS code as we need to change the notebook kernel type to SQL in SAS to run it (can't change the kernel in VScode??).\r\n",
                "This is a version of https://github.com/microsoft/sqlworkshops-sql2019workshop/blob/master/sql2019workshop/04_Availability/adr/basic_adr.ipynb"
            ],
            "metadata": {
                "azdata_cell_guid": "1ea94d34-096c-4e1c-a082-461d36449869"
            }
        },
        {
            "cell_type": "markdown",
            "source": [
                "Step 1: create a test db and a table with 100,000 rows. Took 24 secs."
            ],
            "metadata": {
                "azdata_cell_guid": "490baab4-55b1-4798-9300-4f704cd15ffa"
            }
        },
        {
            "cell_type": "code",
            "source": [
                "USE master\n",
                "GO\n",
                "\n",
                "IF  EXISTS (SELECT name FROM sys.databases WHERE name = N'gocowboys')\n",
                "alter DATABASE gocowboys SET SINGLE_USER WITH ROLLBACK IMMEDIATE\n",
                "\n",
                "DROP DATABASE IF EXISTS gocowboys\n",
                "GO\n",
                "\n",
                "CREATE DATABASE gocowboys\n",
                "ON PRIMARY\n",
                "(NAME = N'gocowboys_primary', FILENAME = 'C:\\Program Files\\Microsoft SQL Server\\MSSQL15.SQL2019\\MSSQL\\DATA\\gocowboys.mdf', SIZE = 2Gb , MAXSIZE = UNLIMITED, FILEGROWTH = 65536KB)\n",
                "-- (NAME = N'gocowboys_primary', FILENAME = '/var/opt/mssql/DATA/gocowboys.mdf', SIZE = 2Gb , MAXSIZE = UNLIMITED, FILEGROWTH = 65536KB)\n",
                "LOG ON \n",
                "(NAME = N'gocowboys_Log', FILENAME = 'C:\\Program Files\\Microsoft SQL Server\\MSSQL15.SQL2019\\MSSQL\\DATA\\gocowboys_log.ldf', SIZE = 5Gb , MAXSIZE = UNLIMITED , FILEGROWTH = 65536KB)\n",
                "-- (NAME = N'gocowboys_Log', FILENAME = '/var/opt/mssql/DATA/gocowboys_log.ldf', SIZE = 5Gb , MAXSIZE = UNLIMITED , FILEGROWTH = 65536KB)\n",
                "GO\n",
                "ALTER DATABASE gocowboys SET RECOVERY SIMPLE\n",
                "GO\n",
                "USE gocowboys\n",
                "GO\n",
                "DROP TABLE IF EXISTS howboutthemcowboys\n",
                "GO\n",
                "CREATE TABLE howboutthemcowboys \n",
                "(\n",
                "    playerid int primary key clustered, \n",
                "    playername char(7000) not null\n",
                ");\n",
                "\n",
                "GO\n",
                "SET NOCOUNT ON;\n",
                "GO\n",
                "\n",
                "BEGIN TRAN\n",
                "DECLARE @x as int;\n",
                "SET @x = 0;\n",
                "\n",
                "WHILE (@x < 100000)\n",
                "BEGIN\n",
                "\tINSERT INTO howboutthemcowboys VALUES (@x, 'Jason Witten returns in 2019')\n",
                "\tSET @x = @x + 1\n",
                "END\n",
                "\n",
                "COMMIT TRAN\n",
                "GO\n",
                "SET NOCOUNT OFF\n",
                "GO\n",
                "USE master\n",
                "GO"
            ],
            "metadata": {
                "azdata_cell_guid": "4cc7feef-bed4-445e-8b9c-4dab07041498",
                "tags": []
            },
            "outputs": [
                {
                    "output_type": "display_data",
                    "data": {
                        "text/html": "Commands completed successfully."
                    },
                    "metadata": {}
                },
                {
                    "output_type": "display_data",
                    "data": {
                        "text/html": "Commands completed successfully."
                    },
                    "metadata": {}
                },
                {
                    "output_type": "display_data",
                    "data": {
                        "text/html": "Commands completed successfully."
                    },
                    "metadata": {}
                },
                {
                    "output_type": "display_data",
                    "data": {
                        "text/html": "Commands completed successfully."
                    },
                    "metadata": {}
                },
                {
                    "output_type": "display_data",
                    "data": {
                        "text/html": "Commands completed successfully."
                    },
                    "metadata": {}
                },
                {
                    "output_type": "display_data",
                    "data": {
                        "text/html": "Commands completed successfully."
                    },
                    "metadata": {}
                },
                {
                    "output_type": "display_data",
                    "data": {
                        "text/html": "Commands completed successfully."
                    },
                    "metadata": {}
                },
                {
                    "output_type": "display_data",
                    "data": {
                        "text/html": "Commands completed successfully."
                    },
                    "metadata": {}
                },
                {
                    "output_type": "display_data",
                    "data": {
                        "text/html": "Commands completed successfully."
                    },
                    "metadata": {}
                },
                {
                    "output_type": "display_data",
                    "data": {
                        "text/html": "Commands completed successfully."
                    },
                    "metadata": {}
                },
                {
                    "output_type": "display_data",
                    "data": {
                        "text/html": "Commands completed successfully."
                    },
                    "metadata": {}
                },
                {
                    "output_type": "display_data",
                    "data": {
                        "text/html": "Total execution time: 00:00:30.419"
                    },
                    "metadata": {}
                }
            ],
            "execution_count": 25
        },
        {
            "cell_type": "markdown",
            "source": [
                "Step 2: Delete all the rows in the table in an uncommitted transaction. Took 41 secs, double the time to create it??"
            ],
            "metadata": {
                "azdata_cell_guid": "15eaf0aa-6a8a-4423-b0c8-0be14a864713"
            }
        },
        {
            "cell_type": "code",
            "source": [
                "use master;\r\n",
                "go\r\n",
                "\r\n",
                "alter DATABASE gocowboys set accelerated_database_recovery = OFF\r\n",
                "go\r\n",
                "\r\n",
                "use gocowboys;\r\n",
                "GO\r\n",
                "\r\n",
                "BEGIN TRAN\r\n",
                "DELETE from howboutthemcowboys;\r\n",
                "go"
            ],
            "metadata": {
                "azdata_cell_guid": "46f81813-13e1-41c3-8424-03252b0138ff",
                "tags": [
                    "hide_input"
                ]
            },
            "outputs": [
                {
                    "output_type": "display_data",
                    "data": {
                        "text/html": "Commands completed successfully."
                    },
                    "metadata": {}
                },
                {
                    "output_type": "display_data",
                    "data": {
                        "text/html": "Commands completed successfully."
                    },
                    "metadata": {}
                },
                {
                    "output_type": "display_data",
                    "data": {
                        "text/html": "Commands completed successfully."
                    },
                    "metadata": {}
                },
                {
                    "output_type": "display_data",
                    "data": {
                        "text/html": "(100000 rows affected)"
                    },
                    "metadata": {}
                },
                {
                    "output_type": "display_data",
                    "data": {
                        "text/html": "Total execution time: 00:00:03.444"
                    },
                    "metadata": {}
                }
            ],
            "execution_count": 26
        },
        {
            "cell_type": "markdown",
            "source": [
                "Step 3: Check how much transaction log space is used. 4GB used out of total of 5GB. The source notebook published under MSFT account shows that it used 91% but in my case it only 78% has been used. Since MSFT e.g. code is running on windows and mine in a linux docker container, does it mean log file space is more efficiently used in Linux filesystem??"
            ],
            "metadata": {
                "azdata_cell_guid": "22ab243a-a6d5-418b-94c8-091fdd759d5a"
            }
        },
        {
            "cell_type": "code",
            "source": [
                "SELECT used_log_space_in_bytes/(1000*1000*1000) as log_used_GB\r\n",
                ",total_log_size_in_bytes/(1000*1000*1000) as log_totalSize_GB\r\n",
                ",* FROM sys.dm_db_log_space_usage;\r\n",
                "GO\r\n",
                ""
            ],
            "metadata": {
                "azdata_cell_guid": "e66a6ec3-a9a0-46d9-bbf6-fdd4f2738e69",
                "tags": [
                    "hide_input"
                ]
            },
            "outputs": [
                {
                    "output_type": "display_data",
                    "data": {
                        "text/html": "(1 row affected)"
                    },
                    "metadata": {}
                },
                {
                    "output_type": "display_data",
                    "data": {
                        "text/html": "Total execution time: 00:00:00.057"
                    },
                    "metadata": {}
                },
                {
                    "output_type": "execute_result",
                    "execution_count": 27,
                    "data": {
                        "application/vnd.dataresource+json": {
                            "schema": {
                                "fields": [
                                    {
                                        "name": "log_used_GB"
                                    },
                                    {
                                        "name": "log_totalSize_GB"
                                    },
                                    {
                                        "name": "database_id"
                                    },
                                    {
                                        "name": "total_log_size_in_bytes"
                                    },
                                    {
                                        "name": "used_log_space_in_bytes"
                                    },
                                    {
                                        "name": "used_log_space_in_percent"
                                    },
                                    {
                                        "name": "log_space_in_bytes_since_last_backup"
                                    }
                                ]
                            },
                            "data": [
                                {
                                    "0": "4",
                                    "1": "5",
                                    "2": "18",
                                    "3": "5368700928",
                                    "4": "4917342208",
                                    "5": "91.59277",
                                    "6": "1865355264"
                                }
                            ]
                        },
                        "text/html": "<table><tr><th>log_used_GB</th><th>log_totalSize_GB</th><th>database_id</th><th>total_log_size_in_bytes</th><th>used_log_space_in_bytes</th><th>used_log_space_in_percent</th><th>log_space_in_bytes_since_last_backup</th></tr><tr><td>4</td><td>5</td><td>18</td><td>5368700928</td><td>4917342208</td><td>91.59277</td><td>1865355264</td></tr></table>"
                    },
                    "metadata": {}
                }
            ],
            "execution_count": 27
        },
        {
            "cell_type": "markdown",
            "source": [
                "**Step 4: Does a checkpoint truncate the transaction log?**\r\n",
                "\r\n",
                "Normally for a database with simple recovery a CHECKPOINT would truncate the log. In case I am running SQL Server on linux (container), it makes no difference but if i run the same code on Windows, the used percentage drops from 91% to 79%. Why??"
            ],
            "metadata": {
                "azdata_cell_guid": "8488e78a-0607-4604-a011-d6b55685a405"
            }
        },
        {
            "cell_type": "code",
            "source": [
                "CHECKPOINT;\r\n",
                "GO\r\n",
                "\r\n",
                "SELECT used_log_space_in_bytes/(1000*1000*1000) as log_used_GB\r\n",
                ",total_log_size_in_bytes/(1000*1000*1000) as log_totalSize_GB\r\n",
                ",* FROM sys.dm_db_log_space_usage;\r\n",
                "GO\r\n",
                ""
            ],
            "metadata": {
                "azdata_cell_guid": "f04a2d05-0150-4d0e-94b8-eaf61876435d",
                "tags": []
            },
            "outputs": [
                {
                    "output_type": "display_data",
                    "data": {
                        "text/html": "Commands completed successfully."
                    },
                    "metadata": {}
                },
                {
                    "output_type": "display_data",
                    "data": {
                        "text/html": "(1 row affected)"
                    },
                    "metadata": {}
                },
                {
                    "output_type": "display_data",
                    "data": {
                        "text/html": "Total execution time: 00:00:02.524"
                    },
                    "metadata": {}
                },
                {
                    "output_type": "execute_result",
                    "execution_count": 28,
                    "data": {
                        "application/vnd.dataresource+json": {
                            "schema": {
                                "fields": [
                                    {
                                        "name": "log_used_GB"
                                    },
                                    {
                                        "name": "log_totalSize_GB"
                                    },
                                    {
                                        "name": "database_id"
                                    },
                                    {
                                        "name": "total_log_size_in_bytes"
                                    },
                                    {
                                        "name": "used_log_space_in_bytes"
                                    },
                                    {
                                        "name": "used_log_space_in_percent"
                                    },
                                    {
                                        "name": "log_space_in_bytes_since_last_backup"
                                    }
                                ]
                            },
                            "data": [
                                {
                                    "0": "4",
                                    "1": "5",
                                    "2": "18",
                                    "3": "5368700928",
                                    "4": "4246458368",
                                    "5": "79.09657",
                                    "6": "1015545856"
                                }
                            ]
                        },
                        "text/html": "<table><tr><th>log_used_GB</th><th>log_totalSize_GB</th><th>database_id</th><th>total_log_size_in_bytes</th><th>used_log_space_in_bytes</th><th>used_log_space_in_percent</th><th>log_space_in_bytes_since_last_backup</th></tr><tr><td>4</td><td>5</td><td>18</td><td>5368700928</td><td>4246458368</td><td>79.09657</td><td>1015545856</td></tr></table>"
                    },
                    "metadata": {}
                }
            ],
            "execution_count": 28
        },
        {
            "cell_type": "markdown",
            "source": [
                "Step 5: How long does it take to rollback all the deletes?"
            ],
            "metadata": {
                "azdata_cell_guid": "cd84c48f-7426-4b61-8344-54b57408805d"
            }
        },
        {
            "cell_type": "code",
            "source": [
                "ROLLBACK TRAN\r\n",
                "GO"
            ],
            "metadata": {
                "azdata_cell_guid": "a10c0484-3186-42b3-896a-af8aad5fda1f"
            },
            "outputs": [
                {
                    "output_type": "display_data",
                    "data": {
                        "text/html": "Commands completed successfully."
                    },
                    "metadata": {}
                },
                {
                    "output_type": "display_data",
                    "data": {
                        "text/html": "Total execution time: 00:00:13.499"
                    },
                    "metadata": {}
                }
            ],
            "execution_count": 29
        },
        {
            "cell_type": "markdown",
            "source": [
                "**Step 6: What is the log space usage after a CHECKPOINT?**\r\n",
                "\r\n",
                "Because the active transaciton is rolled back, a CHECKPOINT will allow the log to be truncated."
            ],
            "metadata": {
                "azdata_cell_guid": "40e2beee-3dd8-49d4-b0a0-0380de6c6d21"
            }
        },
        {
            "cell_type": "code",
            "source": [
                "CHECKPOINT;\r\n",
                "GO\r\n",
                "\r\n",
                "SELECT used_log_space_in_bytes/(1000*1000*1000) as log_used_GB\r\n",
                ",total_log_size_in_bytes/(1000*1000*1000) as log_totalSize_GB\r\n",
                ",* FROM sys.dm_db_log_space_usage;\r\n",
                "GO\r\n",
                ""
            ],
            "metadata": {
                "azdata_cell_guid": "b95630a5-7ae0-4765-8cc5-003aa687f7a6",
                "tags": []
            },
            "outputs": [
                {
                    "output_type": "display_data",
                    "data": {
                        "text/html": "Commands completed successfully."
                    },
                    "metadata": {}
                },
                {
                    "output_type": "display_data",
                    "data": {
                        "text/html": "(1 row affected)"
                    },
                    "metadata": {}
                },
                {
                    "output_type": "display_data",
                    "data": {
                        "text/html": "Total execution time: 00:00:02.235"
                    },
                    "metadata": {}
                },
                {
                    "output_type": "execute_result",
                    "execution_count": 30,
                    "data": {
                        "application/vnd.dataresource+json": {
                            "schema": {
                                "fields": [
                                    {
                                        "name": "log_used_GB"
                                    },
                                    {
                                        "name": "log_totalSize_GB"
                                    },
                                    {
                                        "name": "database_id"
                                    },
                                    {
                                        "name": "total_log_size_in_bytes"
                                    },
                                    {
                                        "name": "used_log_space_in_bytes"
                                    },
                                    {
                                        "name": "used_log_space_in_percent"
                                    },
                                    {
                                        "name": "log_space_in_bytes_since_last_backup"
                                    }
                                ]
                            },
                            "data": [
                                {
                                    "0": "0",
                                    "1": "5",
                                    "2": "18",
                                    "3": "5368700928",
                                    "4": "88764416",
                                    "5": "1.653369",
                                    "6": "110592"
                                }
                            ]
                        },
                        "text/html": "<table><tr><th>log_used_GB</th><th>log_totalSize_GB</th><th>database_id</th><th>total_log_size_in_bytes</th><th>used_log_space_in_bytes</th><th>used_log_space_in_percent</th><th>log_space_in_bytes_since_last_backup</th></tr><tr><td>0</td><td>5</td><td>18</td><td>5368700928</td><td>88764416</td><td>1.653369</td><td>110592</td></tr></table>"
                    },
                    "metadata": {}
                }
            ],
            "execution_count": 30
        },
        {
            "cell_type": "markdown",
            "source": [
                "**Step 7: Turn on Accelerated Database Recovery**\r\n",
                ""
            ],
            "metadata": {
                "azdata_cell_guid": "a3387fee-9856-40be-8e86-414820551f08"
            }
        },
        {
            "cell_type": "code",
            "source": [
                "USE master\r\n",
                "GO\r\n",
                "\r\n",
                "ALTER DATABASE gocowboys SET ACCELERATED_DATABASE_RECOVERY = ON\r\n",
                "GO"
            ],
            "metadata": {
                "azdata_cell_guid": "6c9c379c-559a-4f89-9f57-e633cd3dc3b7"
            },
            "outputs": [
                {
                    "output_type": "display_data",
                    "data": {
                        "text/html": "Commands completed successfully."
                    },
                    "metadata": {}
                },
                {
                    "output_type": "display_data",
                    "data": {
                        "text/html": "Commands completed successfully."
                    },
                    "metadata": {}
                },
                {
                    "output_type": "display_data",
                    "data": {
                        "text/html": "Total execution time: 00:00:00.036"
                    },
                    "metadata": {}
                }
            ],
            "execution_count": 31
        },
        {
            "cell_type": "markdown",
            "source": [
                "**Step 8: Try to delete all the rows again under a transaction**"
            ],
            "metadata": {
                "azdata_cell_guid": "cec80478-743a-4be8-9f3b-bae91d7cf9ff"
            }
        },
        {
            "cell_type": "code",
            "source": [
                "USE gocowboys;\r\n",
                "GO\r\n",
                "\r\n",
                "BEGIN TRAN\r\n",
                "    DELETE from howboutthemcowboys;\r\n",
                "GO"
            ],
            "metadata": {
                "azdata_cell_guid": "3c0bbb90-de42-40c2-86ff-9cb136c78c10"
            },
            "outputs": [
                {
                    "output_type": "display_data",
                    "data": {
                        "text/html": "Commands completed successfully."
                    },
                    "metadata": {}
                },
                {
                    "output_type": "display_data",
                    "data": {
                        "text/html": "(100000 rows affected)"
                    },
                    "metadata": {}
                },
                {
                    "output_type": "display_data",
                    "data": {
                        "text/html": "Total execution time: 00:00:02.920"
                    },
                    "metadata": {}
                }
            ],
            "execution_count": 32
        },
        {
            "cell_type": "markdown",
            "source": [
                "**Step 9: Check log space usage before and after a CHECKPOINT**"
            ],
            "metadata": {
                "azdata_cell_guid": "ad55f9a2-28a9-406f-b046-9cdfb7fea500"
            }
        },
        {
            "cell_type": "code",
            "source": [
                "SELECT used_log_space_in_bytes/(1000*1000*1000) as log_used_GB\r\n",
                ",total_log_size_in_bytes/(1000*1000*1000) as log_totalSize_GB\r\n",
                ",* FROM sys.dm_db_log_space_usage;\r\n",
                "GO\r\n",
                "\r\n",
                "CHECKPOINT;\r\n",
                "GO\r\n",
                "\r\n",
                "SELECT used_log_space_in_bytes/(1000*1000*1000) as log_used_GB\r\n",
                ",total_log_size_in_bytes/(1000*1000*1000) as log_totalSize_GB\r\n",
                ",* FROM sys.dm_db_log_space_usage;\r\n",
                "GO"
            ],
            "metadata": {
                "azdata_cell_guid": "cb5c82b7-1a26-4dc7-8082-46ee7ef80f40"
            },
            "outputs": [
                {
                    "output_type": "display_data",
                    "data": {
                        "text/html": "(1 row affected)"
                    },
                    "metadata": {}
                },
                {
                    "output_type": "execute_result",
                    "execution_count": 33,
                    "data": {
                        "application/vnd.dataresource+json": {
                            "schema": {
                                "fields": [
                                    {
                                        "name": "log_used_GB"
                                    },
                                    {
                                        "name": "log_totalSize_GB"
                                    },
                                    {
                                        "name": "database_id"
                                    },
                                    {
                                        "name": "total_log_size_in_bytes"
                                    },
                                    {
                                        "name": "used_log_space_in_bytes"
                                    },
                                    {
                                        "name": "used_log_space_in_percent"
                                    },
                                    {
                                        "name": "log_space_in_bytes_since_last_backup"
                                    }
                                ]
                            },
                            "data": [
                                {
                                    "0": "1",
                                    "1": "5",
                                    "2": "18",
                                    "3": "5368700928",
                                    "4": "1079373824",
                                    "5": "20.10493",
                                    "6": "768110592"
                                }
                            ]
                        },
                        "text/html": "<table><tr><th>log_used_GB</th><th>log_totalSize_GB</th><th>database_id</th><th>total_log_size_in_bytes</th><th>used_log_space_in_bytes</th><th>used_log_space_in_percent</th><th>log_space_in_bytes_since_last_backup</th></tr><tr><td>1</td><td>5</td><td>18</td><td>5368700928</td><td>1079373824</td><td>20.10493</td><td>768110592</td></tr></table>"
                    },
                    "metadata": {}
                },
                {
                    "output_type": "display_data",
                    "data": {
                        "text/html": "Commands completed successfully."
                    },
                    "metadata": {}
                },
                {
                    "output_type": "display_data",
                    "data": {
                        "text/html": "(1 row affected)"
                    },
                    "metadata": {}
                },
                {
                    "output_type": "display_data",
                    "data": {
                        "text/html": "Total execution time: 00:00:02.646"
                    },
                    "metadata": {}
                },
                {
                    "output_type": "execute_result",
                    "execution_count": 33,
                    "data": {
                        "application/vnd.dataresource+json": {
                            "schema": {
                                "fields": [
                                    {
                                        "name": "log_used_GB"
                                    },
                                    {
                                        "name": "log_totalSize_GB"
                                    },
                                    {
                                        "name": "database_id"
                                    },
                                    {
                                        "name": "total_log_size_in_bytes"
                                    },
                                    {
                                        "name": "used_log_space_in_bytes"
                                    },
                                    {
                                        "name": "used_log_space_in_percent"
                                    },
                                    {
                                        "name": "log_space_in_bytes_since_last_backup"
                                    }
                                ]
                            },
                            "data": [
                                {
                                    "0": "0",
                                    "1": "5",
                                    "2": "18",
                                    "3": "5368700928",
                                    "4": "408522752",
                                    "5": "7.609341",
                                    "6": "102400"
                                }
                            ]
                        },
                        "text/html": "<table><tr><th>log_used_GB</th><th>log_totalSize_GB</th><th>database_id</th><th>total_log_size_in_bytes</th><th>used_log_space_in_bytes</th><th>used_log_space_in_percent</th><th>log_space_in_bytes_since_last_backup</th></tr><tr><td>0</td><td>5</td><td>18</td><td>5368700928</td><td>408522752</td><td>7.609341</td><td>102400</td></tr></table>"
                    },
                    "metadata": {}
                }
            ],
            "execution_count": 33
        },
        {
            "cell_type": "markdown",
            "source": [
                "**Step 10: How fast is a rollback?**"
            ],
            "metadata": {
                "azdata_cell_guid": "7e3ff405-d3c8-4d1e-af52-be5f16b30902"
            }
        },
        {
            "cell_type": "code",
            "source": [
                "ROLLBACK TRAN;\r\n",
                "GO"
            ],
            "metadata": {
                "azdata_cell_guid": "3a4a31f8-833e-428a-b03c-cb54a82c3da8"
            },
            "outputs": [
                {
                    "output_type": "display_data",
                    "data": {
                        "text/html": "Commands completed successfully."
                    },
                    "metadata": {}
                },
                {
                    "output_type": "display_data",
                    "data": {
                        "text/html": "Total execution time: 00:00:00.001"
                    },
                    "metadata": {}
                }
            ],
            "execution_count": 34
        }
    ]
}